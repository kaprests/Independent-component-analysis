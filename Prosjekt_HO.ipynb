{
 "cells": [
  {
   "cell_type": "markdown",
   "metadata": {},
   "source": [
    "<h1>TMA4320 - Prosjekt 1 - Independent component analysis</h1>\n",
    "\n",
    "<h2>Abstract</h2>\n",
    "This notebook is the first project in TMA4320 at the Norwegian University of Science and Technology, and it describes the basic principles of independent component analysis, and uses it to decompose mixed sound signals into sepparate components.\n",
    "\n",
    "^kan sikkert skrives bedre"
   ]
  },
  {
   "cell_type": "markdown",
   "metadata": {},
   "source": [
    "<h2>1 - Introduction</h2>\n",
    "\n",
    "Explain (fast)ICA, why/how it works etc.\n",
    "\n",
    "Description of each function is provided below.\n",
    "\n",
    "ca. en side."
   ]
  },
  {
   "cell_type": "markdown",
   "metadata": {},
   "source": [
    "<h2>2 - The algorithm</h2>"
   ]
  },
  {
   "cell_type": "markdown",
   "metadata": {},
   "source": [
    "<h2>2.1 - Preparations</h2>\n",
    "\n",
    "Firsly we need to import the data (sound files) that we will be working with and make them playable. The three cells below uploads the provided sound files, utilising the provided script \"wav_file_loader.py\", and the files are assumed to be placed in .audio/.\n"
   ]
  },
  {
   "cell_type": "code",
   "execution_count": null,
   "metadata": {},
   "outputs": [],
   "source": [
    "'''This cell uploads the files that are to be decomposed.'''\n",
    "\n",
    "import numpy as np\n",
    "from wav_file_loader import read_wavefiles\n",
    "\n",
    "paths = ['audio/mix_1.wav', 'audio/mix_2.wav', 'audio/mix_3.wav']\n",
    "data, sampling_rate = read_wavefiles(paths)\n",
    "num_signals = data.shape[0]"
   ]
  },
  {
   "cell_type": "code",
   "execution_count": null,
   "metadata": {},
   "outputs": [],
   "source": [
    "'''This cell normalizes the signals to a common volume level.'''\n",
    "\n",
    "def normalize_audio(data):\n",
    "    \"\"\"Scale amplitude s.t. max(data[i]) == 1.\"\"\"\n",
    "    abs_data = np.absolute(data)\n",
    "    maximums = np.amax(abs_data,1)\n",
    "    # Divide each row by a different vector element:\n",
    "    data = data / maximums.reshape((3,1))\n",
    "    return data\n",
    "\n",
    "data = normalize_audio(data)"
   ]
  },
  {
   "cell_type": "code",
   "execution_count": null,
   "metadata": {},
   "outputs": [],
   "source": [
    "'''This cell makes widgets for playing the uploaded clips.'''\n",
    "\n",
    "import IPython.display as ipd\n",
    "\n",
    "ipd.display(ipd.Audio(data[0,:], rate=sampling_rate))\n",
    "ipd.display(ipd.Audio(data[1,:], rate=sampling_rate))\n",
    "ipd.display(ipd.Audio(data[2,:], rate=sampling_rate))"
   ]
  },
  {
   "cell_type": "markdown",
   "metadata": {},
   "source": [
    "<h2>2.2 - Mixing</h2>\n",
    "\n",
    "The cells in this section is for mixing sepparate audio, clear audio into noisy clips. This is used to create some custom clips to further test the algorithm."
   ]
  },
  {
   "cell_type": "code",
   "execution_count": null,
   "metadata": {},
   "outputs": [],
   "source": [
    "def normalize_rowsums(A):\n",
    "    '''\n",
    "    Divide each row in A by its sum.\n",
    "    The sum of each row in the result is 1.0.\n",
    "    '''\n",
    "    \n",
    "    the_sum = np.sum(A,1)\n",
    "    A = A / the_sum.reshape((3,1))\n",
    "    return A\n",
    "\n",
    "def random_mixing_matrix(signals, observations):\n",
    "    '''\n",
    "    Creates a random matrix\n",
    "    Each element is a small positive number, not too close to 0.\n",
    "    (1/11, 5/7).\n",
    "    '''\n",
    "    \n",
    "    A = 0.25 + np.random.rand(observations, signals)\n",
    "    return normalize_rowsums(A)\n"
   ]
  },
  {
   "cell_type": "code",
   "execution_count": null,
   "metadata": {},
   "outputs": [],
   "source": [
    "A = random_mixing_matrix(num_signals, num_signals)\n",
    "data_mixed = normalize_audio(A @ data)"
   ]
  },
  {
   "cell_type": "code",
   "execution_count": null,
   "metadata": {},
   "outputs": [],
   "source": [
    "import IPython.display as ipd\n",
    "\n",
    "ipd.display(ipd.Audio(data_mixed[0,:], rate=sampling_rate))\n",
    "ipd.display(ipd.Audio(data_mixed[1,:], rate=sampling_rate))\n",
    "ipd.display(ipd.Audio(data_mixed[2,:], rate=sampling_rate))"
   ]
  },
  {
   "cell_type": "markdown",
   "metadata": {},
   "source": [
    "<h2>2.3 - Custom sound clips</h2>\n",
    "\n",
    "The cell below uploads and mixes some clips of our own, and makes them playable."
   ]
  },
  {
   "cell_type": "code",
   "execution_count": null,
   "metadata": {},
   "outputs": [],
   "source": [
    "#Dette er egenmikset lyd\n",
    "\n",
    "paths1 = ['audio/clip1.wav', 'audio/clip2.wav', 'audio/clip3.wav']\n",
    "data1, sampling_rate1 = read_wavefiles(paths1)\n",
    "num_signals1 = data1.shape[0]\n",
    "\n",
    "B = random_mixing_matrix(num_signals1, num_signals1)\n",
    "data_mixed1 = normalize_audio(B @ data1)\n",
    "\n",
    "ipd.display(ipd.Audio(data_mixed1[0,:], rate=sampling_rate1))\n",
    "ipd.display(ipd.Audio(data_mixed1[1,:], rate=sampling_rate1))\n",
    "ipd.display(ipd.Audio(data_mixed1[2,:], rate=sampling_rate1))"
   ]
  },
  {
   "cell_type": "markdown",
   "metadata": {},
   "source": [
    "<h2>2.4 - Preprocessing</h2>\n",
    "\n",
    "The following cell contains the functions <font color='blue'> center_rows </font> og <font color='blue'> whiten_rows </font>. (...)"
   ]
  },
  {
   "cell_type": "code",
   "execution_count": null,
   "metadata": {},
   "outputs": [],
   "source": [
    "def center_rows(Z):\n",
    "    \"\"\"\n",
    "    Ensures each row has zero mean.\n",
    "    Takes a matrix of arbitrary shape and subtracts from each row the mean value of that row.\n",
    "    \"\"\"\n",
    "    \n",
    "    # Here goes your code. The code should return a dxN-matrix, say Zc, where each row has zero mean\n",
    "    row_means = np.mean(Z, axis=1)\n",
    "    Z_transposed = Z.transpose()\n",
    "    Zc_transposed = Z_transposed - row_means\n",
    "    Zc = Zc_transposed.transpose()\n",
    "    return Zc #, mus\n",
    "\n",
    "\n",
    "def whiten_rows(Z):\n",
    "    \"\"\"\n",
    "    Return whitened version of Z and the matrix for the transform, say Zw, T, where Zw=T*Z\n",
    "    \"\"\"\n",
    "    \n",
    "    # Covariance matrix, C\n",
    "    C = np.cov(Z)\n",
    "    \n",
    "    # The following two statements compute T (inverse square root of C).\n",
    "    U, S, _ = np.linalg.svd(C, full_matrices=False)\n",
    "    T  = U @ np.diag(1 / np.sqrt(S)) @ U.T\n",
    "    \n",
    "    # Finally the withened version of Z, Zw\n",
    "    Zw = np.matmul(T,Z)\n",
    "    \n",
    "    return Zw, T"
   ]
  },
  {
   "cell_type": "markdown",
   "metadata": {},
   "source": [
    "<h2>2.5 - Main iteration - Maximization of non-gaussianity(??)</h2>"
   ]
  },
  {
   "cell_type": "code",
   "execution_count": null,
   "metadata": {},
   "outputs": [],
   "source": [
    "def normalize_rownorms(Z):\n",
    "    \"\"\"\n",
    "    Divides each row in matrix Z by its Euclidean norm.\n",
    "    \n",
    "    The norm of each row in the output is equal to one.\n",
    "    \n",
    "    Computes the Euclidean norm of each row of the matrix Z\n",
    "    and then scale each row by this norm. \n",
    "    \"\"\"\n",
    "     \n",
    "    e_norms = np.linalg.norm(Z, axis=1)\n",
    "    Z_trans = Z.transpose()\n",
    "    Z_norm_trans = Z_trans / e_norms\n",
    "    Z_norm = Z_norm_trans.transpose()\n",
    "    return Z_norm"
   ]
  },
  {
   "cell_type": "code",
   "execution_count": null,
   "metadata": {},
   "outputs": [],
   "source": [
    "def decorrelate_weights(W):\n",
    "    \"\"\"\n",
    "    This is the orthogonalization step (or decorrelation step) The dxd input matrix W is projected onto an \n",
    "    orthogonal matrix by the transformation Wd = (WW^T)^{-1/2} W as described in the note. The single output \n",
    "    argument is the projected W-matrix (Wd).\n",
    "    \n",
    "    Uses a similar technque for computing the inverse square root as in the whitening step.\n",
    "    \"\"\"\n",
    "    \n",
    "    # Matrix product of W and its transposed\n",
    "    WW_T = np.matmul(W,W.transpose())\n",
    "    \n",
    "    # Computes T, the inverse square root of WW_T\n",
    "    U, S, _ = np.linalg.svd(WW_T, full_matrices=False)\n",
    "    T = U @ np.diag(1 / np.sqrt(S)) @ U.transpose()\n",
    "    \n",
    "    # Finally computes the decorrelated matrix Wd\n",
    "    Wd = np.matmul(T, W)\n",
    "\n",
    "    return Wd\n"
   ]
  },
  {
   "cell_type": "code",
   "execution_count": null,
   "metadata": {},
   "outputs": [],
   "source": [
    "def update_W(W, Zcw):\n",
    "    \"\"\"x\n",
    "    Calculates W_k+1 from W_k.\n",
    "    The input is W=W_k (d x d) as well as the cenztered, whitened data Zcw (dxN known as tilde{x} in the note)\n",
    "    Output is the new W (W_{k+1}).\n",
    "    \n",
    "    This function does the two iteration steps in the note: The optimisation step and the \n",
    "    orthogonalisation (decorrelation) step. The first step, the orthogonalisation is provided by the \n",
    "    function decorrelate_weights which is called below.\n",
    "    \n",
    "    Uses either kurtosis or negentropy.\n",
    "    \"\"\"\n",
    "    \n",
    "    # Optimization step:\n",
    "    s_k = np.dot(W, Zcw)\n",
    "    \n",
    "    # kurtosis and derivative as lambda funtions\n",
    "    kurtosis = lambda u: 4*(u**3)\n",
    "    kurtosis_d = lambda u: 12*(u**2)\n",
    "    \n",
    "    #negentropy and derivative as lambda functions\n",
    "    negentropy = lambda u: u * np.exp(-((u**2)/2))\n",
    "    negentropy_d = lambda u: -np.exp(-((u**2)/2)) * (u**2 - 1)\n",
    "    \n",
    "    # Applies kurtosis function and derivative on each element of s_k\n",
    "    G = kurtosis(s_k)\n",
    "    G_d = kurtosis_d(s_k)\n",
    "                                      \n",
    "    # Applies negentropy function and derivative on each element of s_k\n",
    "    #G = negentropy(s_k)\n",
    "    #G_d = negentropy_d(s_k)\n",
    "    \n",
    "    # Gets number of rows and columns of G_d\n",
    "    N = G_d.shape[1]\n",
    "    \n",
    "    # Computes W_k+1, here called W_p\n",
    "    W_p = (1/N) * np.dot(G, Zcw.transpose()) - np.matmul(np.diag(np.average(G_d, axis=1)), W)\n",
    "    \n",
    "    # Normalizes rows of W_p (W_k+1)\n",
    "    W_pn = normalize_rownorms(W_p)\n",
    "    \n",
    "    #########################################################################################\n",
    "    \n",
    "    # Orthogonalization step:\n",
    "    W_pnd = decorrelate_weights(W_pn)\n",
    "\n",
    "    return W_pnd\n",
    "    "
   ]
  },
  {
   "cell_type": "code",
   "execution_count": null,
   "metadata": {},
   "outputs": [],
   "source": [
    "def measure_of_convergence(W1, W2):\n",
    "    \"\"\"\n",
    "    This function computes an error estimate for the maximisation iteration, it computes the convergence\n",
    "    criterion given in the note. \n",
    "    Input: W1 is the previous iterate, and W2 is the one just computed.\n",
    "    Output: The quantity delta defined in the note.\n",
    "    Typical numpy-functions to use: numpy.sum, numpy.absolute, numpy.amax.\n",
    "    \"\"\"\n",
    "    \n",
    "    a_s = np.absolute(np.sum(np.multiply(W2, W1), axis=1))\n",
    "    delta = np.absolute(np.amax((1-a_s)))\n",
    "    return delta"
   ]
  },
  {
   "cell_type": "code",
   "execution_count": null,
   "metadata": {},
   "outputs": [],
   "source": [
    "import warnings\n",
    "\n",
    "tol_default = 1e-10\n",
    "\n",
    "def fast_ICA(Z, signals_to_find, tol=tol_default, max_iter=100):\n",
    "    \"\"\" This is the function that organises all the work.\n",
    "    \n",
    "    Input: Z is the unprocessed data\n",
    "           signals_to_find: in our case, always d the number of sources\n",
    "           tol is the tolerance, default value 1.0e-10\n",
    "           max_iter abort after max_iter iterations if not converged, (to avoid infinite loop)\n",
    "    Output: Z_ica, the separated signals (dxN matrix, approximating the sources)\n",
    "            W The final converged W-matrix (dxd)\n",
    "            Also some other variables of interest can be returned if desired\n",
    "    \"\"\"\n",
    "    \n",
    "    # center the rows of Z\n",
    "    Z_cent = center_rows(Z)\n",
    "\n",
    "    # whiten the centered rows\n",
    "    Z_cent_wit, T = whiten_rows(Z_cent)\n",
    "    \n",
    "    # Put W_0 = W to a random initial value and normalise the rows to length 1\n",
    "    M = Z_cent.shape[0]\n",
    "    W_0 = np.random.rand(M, M)\n",
    "    W_0 = normalize_rowsums(W_0)\n",
    "    \n",
    "    # Initialise some variables to prepare for the while-loop (such as delta)\n",
    "    delta = tol + 1\n",
    "    number_of_iter = 0\n",
    "\n",
    "    # while delta>tol and number_of_iterations < max_iter:\n",
    "    #      do an iteration to get a new W-iterate \n",
    "    #      Compute the error estimate to update delta\n",
    "\n",
    "    while delta > tol and number_of_iter < max_iter:\n",
    "        W_p = update_W(W_0, Z_cent_wit)\n",
    "        delta = measure_of_convergence(W_0, W_p)\n",
    "        W_0 = W_p\n",
    "        number_of_iter += 1\n",
    "        \n",
    "    # Clean up, check if converged or max_iter attained\n",
    "    if number_of_iter == max_iter:\n",
    "        print('max_iter reached :(((\\ndelta: ', delta)\n",
    "        \n",
    "    else:\n",
    "        print(\"Endelig delta: \", delta)\n",
    "        print(\"Antall iterasjoner: \", number_of_iter)\n",
    "        \n",
    "    Z_ica = np.matmul(W_p, Z_cent_wit)\n",
    "    return Z_ica, W_p\n",
    "    \n"
   ]
  },
  {
   "cell_type": "code",
   "execution_count": null,
   "metadata": {},
   "outputs": [],
   "source": [
    "#Kjører algoritmen og produserer sepparerte lydfiler!\n",
    "#Husk å kjøre øvrige bokser først\n",
    "Z_ica, W_ica = fast_ICA(data, 3)"
   ]
  },
  {
   "cell_type": "markdown",
   "metadata": {},
   "source": [
    "<h2>3 - Results</h2>\n",
    "\n",
    "Below both the original mixed and the unmixed files can be played back and compared."
   ]
  },
  {
   "cell_type": "code",
   "execution_count": null,
   "metadata": {},
   "outputs": [],
   "source": [
    "\"\"\"Her kan du spille av de tre opplastede lydklippene\"\"\"\n",
    "import IPython.display as ipd\n",
    "\n",
    "ipd.display(ipd.Audio(data[0,:], rate=sampling_rate))\n",
    "ipd.display(ipd.Audio(data[1,:], rate=sampling_rate))\n",
    "ipd.display(ipd.Audio(data[2,:], rate=sampling_rate))"
   ]
  },
  {
   "cell_type": "code",
   "execution_count": null,
   "metadata": {},
   "outputs": [],
   "source": [
    "\"\"\"Her kan du spille av de tre lydklippene etter de har vært igjennom sepparasjonen\"\"\"\n",
    "import IPython.display as ipd\n",
    "\n",
    "ipd.display(ipd.Audio(Z_ica[0,:], rate=sampling_rate))\n",
    "ipd.display(ipd.Audio(Z_ica[1,:], rate=sampling_rate))\n",
    "ipd.display(ipd.Audio(Z_ica[2,:], rate=sampling_rate))"
   ]
  },
  {
   "cell_type": "code",
   "execution_count": null,
   "metadata": {},
   "outputs": [],
   "source": [
    "#Kjører algoritmen på egenmikset lyd\n",
    "Z_ica1, W_ica1 = fast_ICA(data1, 3)\n",
    "\n",
    "ipd.display(ipd.Audio(Z_ica1[0,:], rate=sampling_rate1))\n",
    "ipd.display(ipd.Audio(Z_ica1[1,:], rate=sampling_rate1))\n",
    "ipd.display(ipd.Audio(Z_ica1[2,:], rate=sampling_rate1))"
   ]
  },
  {
   "cell_type": "markdown",
   "metadata": {},
   "source": [
    "<h2>Conclusion/discussion</h2>\n",
    "\n",
    "Not sure what to say here thoo."
   ]
  },
  {
   "cell_type": "markdown",
   "metadata": {},
   "source": [
    "<br>\n",
    "<br>\n",
    "<br>\n",
    "<br><br>\n",
    "<br>\n",
    "<br>\n",
    "<br><br>\n",
    "<br>\n",
    "<br>\n",
    "<br><br>\n",
    "<br>\n",
    "<br>\n",
    "<br><br>\n",
    "<br>\n",
    "<br>\n",
    "<br><br>\n",
    "<br>\n",
    "<br>\n",
    "<br>\n",
    "<h1>Cellene nedenfor er kode som ble brukt til å teste koden underveis</h1>"
   ]
  },
  {
   "cell_type": "code",
   "execution_count": null,
   "metadata": {},
   "outputs": [],
   "source": [
    "#Test above functions\n",
    "\n",
    "#Test of center_rows:\n",
    "Z = np.array([[1,0,1,0],[0,1,0,1],[3,0,1,-3]]) #just an arbitrary test matrix\n",
    "Zc = center_rows(Z)\n",
    "\n",
    "print('Zc: \\n', Zc, '\\n\\n')\n",
    "print('Vector with mean of rows in Zc: \\n', np.mean(Zc, axis=1), '\\n')\n",
    "\n",
    "#Test of whiten_rows:\n",
    "Zcw, T = whiten_rows(Zc)\n",
    "\n",
    "print('Zwc: \\n', Zcw, '\\n\\n')\n",
    "print('T: \\n', T)\n",
    "\n",
    "Z_d_w, T = whiten_rows(data)\n",
    "print(Z_d_w.shape)"
   ]
  },
  {
   "cell_type": "code",
   "execution_count": null,
   "metadata": {},
   "outputs": [],
   "source": [
    "#Test og normalize_rownorms:\n",
    "Z_norm = normalize_rownorms(Z)\n",
    "\n",
    "print('Z_norm: \\n',Z_norm, '\\n')\n",
    "print('Vector with row norms: \\n', np.linalg.norm(Z_norm, axis=1))"
   ]
  },
  {
   "cell_type": "code",
   "execution_count": null,
   "metadata": {},
   "outputs": [],
   "source": [
    "#Test of decorrelate_weights:\n",
    "W = np.array([[1,4,5],[6,1,3],[4,9,5]]) # An arbitrart dxd matrix\n",
    "Wd = decorrelate_weights(W)\n",
    "\n",
    "print('Wd: \\n', Wd, '\\n\\n')\n",
    "print(np.sum(Wd, axis=0), '\\n')\n",
    "print('cov-matrix of Wd: \\n', np.cov(Wd), '\\n')\n",
    "print('cov-matrix of W: \\n', np.cov(W))"
   ]
  },
  {
   "cell_type": "code",
   "execution_count": null,
   "metadata": {},
   "outputs": [],
   "source": [
    "#test ac update_W\n",
    "W_p = update_W(W, Zcw)\n",
    "\n",
    "print(W_p)"
   ]
  },
  {
   "cell_type": "code",
   "execution_count": null,
   "metadata": {},
   "outputs": [],
   "source": [
    "#test av measure_of_convergence\n",
    "W1 = np.array([[4,5,9],[80,2,5],[2,2,1]])\n",
    "W2 = np.array([[6,3,7], [9,3,6], [5,3,1]])\n",
    "print(measure_of_convergence(W1, W2))\n",
    "print(np.multiply(W2, W1))\n",
    "print(np.sum(np.multiply(W2, W1), axis = 1))"
   ]
  }
 ],
 "metadata": {
  "language_info": {
   "name": "python",
   "pygments_lexer": "ipython3"
  }
 },
 "nbformat": 4,
 "nbformat_minor": 2
}
