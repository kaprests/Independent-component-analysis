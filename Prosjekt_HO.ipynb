{
 "cells": [
  {
   "cell_type": "markdown",
   "metadata": {},
   "source": [
    "<h1>TMA4320 - Project 1 - Blind Source Sepparation</h1>\n",
    "<p>Notebook and associated data and source code is hosted at: <a href=\"https://github.com/kaprests/TMA4320-project1\">GitHub</a></p>\n",
    "<h3>Gruppe 21 - K.A. Prestsveen og H.V. Skaldebø<h3>\n",
    "<h2>Abstract</h2>\n",
    "<p>This notebook is the first project in TMA4320 at the Norwegian University of Science and Technology. It describes the basic principles of independent component analysis, and demonstrates it by sepparating mixed sound signals into separate, distinguishable components.</p>"
   ]
  },
  {
   "cell_type": "markdown",
   "metadata": {},
   "source": [
    "<h2>1 - Introduction</h2>\n",
    "The purpose of this project is to simulate the Cocktail party effect(CPE) with blind source sepparation, using independent component analysis (ICA). The CPE is a psychological effect allowing the human brain to distinguish conversations or sounds from e.g. a noisy room with several different sound sources. The noisy room is simulated with  a provided audiomix of three sources which is sepparated into independent, distinguishable sound clips using ICA. \n",
    "\n",
    "For each signal *j*, a function $s_{j}(t)$ describes the signal for the length of the sound. Combining the signals with weights $a_{ij}$, depending upon the distance from the source, one gets a linear combination $x_{i}$ describing the recorded sound of a microphone *i*.\n",
    "\n",
    "$$x_{i}(t) = a_{i1}s_{1}(t) + ... + a_{id}s_{d}(t), i = 1, 2, ... , n$$\n",
    "\n",
    "With a digital signal each source and recording will be described according to the sample rate instead of a continious function like abowe. Both **s** and **x** will then be described as matrixes in the form dxN, where d is the number of signals and N is the length of the sound clip(s) times the sample rate(Hz). \n",
    "\n",
    "$$ s = \\begin{bmatrix}\n",
    "    s_{11} & \\dots  & x_{1n} \\\\\n",
    "    x_{21} & \\dots &  \\\\\n",
    "    x_{d1} & \\dots & \n",
    "\\end{bmatrix}\n",
    "$$\n",
    "\n",
    "-Ekstrapoengting\n",
    "Besides performing the minimum requirement of the given project, a few additional tasks were performed. Firstly, the negentropy method was developed in addition to the kurtosis method and compared in the conclusion. \n",
    "\n",
    "-Explain (fast)ICA, why/how it works etc.\n",
    "\n",
    "-Description of each function is provided below.\n",
    "\n",
    "-ca. en side."
   ]
  },
  {
   "cell_type": "markdown",
   "metadata": {},
   "source": [
    "<h2>2 - The Algorithm</h2>"
   ]
  },
  {
   "cell_type": "markdown",
   "metadata": {},
   "source": [
    "<h2>2.1 - Preparations</h2>\n",
    "\n",
    "Firsly we need to import the data (sound files) that we will be working with and make them playable. The three cells below uploads the provided sound files, utilising the provided script \"wav_file_loader.py\", and the files are assumed to be placed in .audio/.\n"
   ]
  },
  {
   "cell_type": "code",
   "execution_count": null,
   "metadata": {},
   "outputs": [],
   "source": [
    "'''This cell uploads the files that are to be decomposed.'''\n",
    "\n",
    "import numpy as np\n",
    "from wav_file_loader import read_wavefiles\n",
    "\n",
    "paths = ['audio/mix_1.wav', 'audio/mix_2.wav', 'audio/mix_3.wav']\n",
    "data, sampling_rate = read_wavefiles(paths)\n",
    "num_signals = data.shape[0]"
   ]
  },
  {
   "cell_type": "code",
   "execution_count": null,
   "metadata": {},
   "outputs": [],
   "source": [
    "'''This cell normalizes the signals to a common volume level.'''\n",
    "\n",
    "def normalize_audio(data):\n",
    "    \"\"\"Scale amplitude s.t. max(data[i]) == 1.\"\"\"\n",
    "    abs_data = np.absolute(data)\n",
    "    maximums = np.amax(abs_data,1)\n",
    "    # Divide each row by a different vector element:\n",
    "    data = data / maximums.reshape((3,1))\n",
    "    return data\n",
    "\n",
    "data = normalize_audio(data)"
   ]
  },
  {
   "cell_type": "markdown",
   "metadata": {},
   "source": [
    "<h3>The output widgets of the cells below allows playback of the provided mixed audio.</h3>"
   ]
  },
  {
   "cell_type": "code",
   "execution_count": null,
   "metadata": {},
   "outputs": [],
   "source": [
    "'''This cell makes widgets for playing the uploaded clips.'''\n",
    "\n",
    "import IPython.display as ipd\n",
    "\n",
    "for i in range(data.shape[0]):\n",
    "    ipd.display(ipd.Audio(data[i,:], rate=sampling_rate))"
   ]
  },
  {
   "cell_type": "markdown",
   "metadata": {},
   "source": [
    "<h2>2.2 - Mixing</h2>\n",
    "\n",
    "The cells in this section is for mixing sepparate, clear audio into noisy clips. This is used to create some custom clips to further test the algorithm."
   ]
  },
  {
   "cell_type": "code",
   "execution_count": null,
   "metadata": {},
   "outputs": [],
   "source": [
    "def normalize_rowsums(A):\n",
    "    '''\n",
    "    Divide each row in A by its sum.\n",
    "    The sum of each row in the result is 1.0.\n",
    "    '''\n",
    "    \n",
    "    the_sum = np.sum(A,1)\n",
    "    A = A / the_sum.reshape((3,1))\n",
    "    return A\n",
    "\n",
    "def random_mixing_matrix(signals, observations):\n",
    "    '''\n",
    "    Creates a random matrix\n",
    "    Each element is a small positive number, not too close to 0.\n",
    "    (1/11, 5/7).\n",
    "    '''\n",
    "    \n",
    "    A = 0.25 + np.random.rand(observations, signals)\n",
    "    return normalize_rowsums(A)\n"
   ]
  },
  {
   "cell_type": "code",
   "execution_count": null,
   "metadata": {},
   "outputs": [],
   "source": [
    "A = random_mixing_matrix(num_signals, num_signals)\n",
    "data_mixed = normalize_audio(A @ data)"
   ]
  },
  {
   "cell_type": "markdown",
   "metadata": {},
   "source": [
    "<h3>Again, the widgets below allows playback of the provided mixed audio.</h3>"
   ]
  },
  {
   "cell_type": "code",
   "execution_count": null,
   "metadata": {},
   "outputs": [],
   "source": [
    "for i in range(data.shape[0]):\n",
    "    ipd.display(ipd.Audio(data[i,:], rate=sampling_rate))"
   ]
  },
  {
   "cell_type": "markdown",
   "metadata": {},
   "source": [
    "<h2>2.3 - Custom Sound Clips</h2>\n",
    "\n",
    "The cell below combines the functions from the above two sections(2.1 and 2.2) to upload and mix some audio of our own, and makes the resulting mix playable using the outputted widgets. This is decomposed together with the provided audio when the algorithm is run."
   ]
  },
  {
   "cell_type": "code",
   "execution_count": null,
   "metadata": {},
   "outputs": [],
   "source": [
    "paths1 = ['audio/clip1.wav', 'audio/clip2.wav', 'audio/clip3.wav']\n",
    "data1, sampling_rate1 = read_wavefiles(paths1)\n",
    "num_signals1 = data1.shape[0]\n",
    "\n",
    "B = random_mixing_matrix(num_signals1, num_signals1)\n",
    "data_mixed1 = normalize_audio(B @ data1)\n",
    "\n",
    "for i in range(data1.shape[0]):\n",
    "    ipd.display(ipd.Audio(data_mixed1[i,:], rate=sampling_rate1))"
   ]
  },
  {
   "cell_type": "markdown",
   "metadata": {},
   "source": [
    "<h2>2.4 - Preprocessing</h2>\n",
    "\n",
    "The following cell contains the functions <font color='blue'> center_rows() </font> and <font color='blue'> whiten_rows() </font>. (...)"
   ]
  },
  {
   "cell_type": "code",
   "execution_count": null,
   "metadata": {},
   "outputs": [],
   "source": [
    "def center_rows(Z):\n",
    "    \"\"\"\n",
    "    Ensures each row has zero mean.\n",
    "    Takes a matrix of arbitrary shape and subtracts from each row the mean value of that row.\n",
    "    \"\"\"\n",
    "    \n",
    "    # The code returns a dxN-matrix, say Zc, where each row has zero mean\n",
    "    row_means = np.mean(Z, axis=1)\n",
    "    Z_transposed = Z.transpose()\n",
    "    Zc_transposed = Z_transposed - row_means\n",
    "    Zc = Zc_transposed.transpose()\n",
    "    return Zc #, mus\n",
    "\n",
    "\n",
    "def whiten_rows(Z):\n",
    "    \"\"\"\n",
    "    Return whitened version of Z and the matrix for the transform, say Zw, T, where Zw=T*Z\n",
    "    \"\"\"\n",
    "    \n",
    "    # Covariance matrix, C\n",
    "    C = np.cov(Z)\n",
    "    \n",
    "    # The following two statements compute T (inverse square root of C).\n",
    "    U, S, _ = np.linalg.svd(C, full_matrices=False)\n",
    "    T  = U @ np.diag(1 / np.sqrt(S)) @ U.T\n",
    "    \n",
    "    # Finally the withened version of Z, Zw\n",
    "    Zw = np.matmul(T,Z)\n",
    "    \n",
    "    return Zw, T"
   ]
  },
  {
   "cell_type": "markdown",
   "metadata": {},
   "source": [
    "<h2>2.5 - Main Iteration - Maximization of Non-gaussianity(??)</h2>"
   ]
  },
  {
   "cell_type": "code",
   "execution_count": null,
   "metadata": {},
   "outputs": [],
   "source": [
    "def normalize_rownorms(Z):\n",
    "    \"\"\"\n",
    "    Divides each row in matrix Z by its Euclidean norm, \n",
    "    so that he norm of each row in the output is equal to one.\n",
    "    \n",
    "    It first computes the Euclidean norm of each row of the input matrix Z,\n",
    "    then scales each row by this norm. \n",
    "    \"\"\"\n",
    "     \n",
    "    e_norms = np.linalg.norm(Z, axis=1)\n",
    "    Z_trans = Z.transpose()\n",
    "    Z_norm_trans = Z_trans / e_norms\n",
    "    Z_norm = Z_norm_trans.transpose()\n",
    "    return Z_norm"
   ]
  },
  {
   "cell_type": "code",
   "execution_count": null,
   "metadata": {},
   "outputs": [],
   "source": [
    "def decorrelate_weights(W):\n",
    "    \"\"\"\n",
    "    This is the orthogonalization step (or decorrelation step) The dxd input matrix W is projected onto an \n",
    "    orthogonal matrix by the transformation Wd = (WW^T)^{-1/2} W as described in the note. The single output \n",
    "    argument is the projected W-matrix (Wd).\n",
    "    \n",
    "    Uses a similar technque for computing the inverse square root as in the whitening step.\n",
    "    \"\"\"\n",
    "    \n",
    "    # Matrix product of W and its transposed\n",
    "    WW_T = np.matmul(W,W.transpose())\n",
    "    \n",
    "    # Computes T, the inverse square root of WW_T\n",
    "    U, S, _ = np.linalg.svd(WW_T, full_matrices=False)\n",
    "    T = U @ np.diag(1 / np.sqrt(S)) @ U.transpose()\n",
    "    \n",
    "    # Finally computes the decorrelated matrix Wd\n",
    "    Wd = np.matmul(T, W)\n",
    "\n",
    "    return Wd\n"
   ]
  },
  {
   "cell_type": "code",
   "execution_count": null,
   "metadata": {},
   "outputs": [],
   "source": [
    "    # kurtosis and derivative as lambda funtions.\n",
    "    kurtosis = lambda u: 4*(u**3)\n",
    "    kurtosis_d = lambda u: 12*(u**2)\n",
    "    \n",
    "    # negentropy and derivative as lambda functions.\n",
    "    negentropy = lambda u: u * np.exp(-((u**2)/2))\n",
    "    negentropy_d = lambda u: -np.exp(-((u**2)/2)) * (u**2 - 1)\n",
    " "
   ]
  },
  {
   "cell_type": "code",
   "execution_count": null,
   "metadata": {},
   "outputs": [],
   "source": [
    "def update_W(W, Zcw, func, func_d):\n",
    "    \"\"\"\n",
    "    Calculates W_k+1 from W_k.\n",
    "    The input is W=W_k (d x d) as well as the cenztered, whitened data Zcw (dxN known as tilde{x} in the note)\n",
    "    Output is the new W (W_{k+1}).\n",
    "    \n",
    "    This function does the two iteration steps in the note: The optimisation step and the \n",
    "    orthogonalisation (decorrelation) step. The first step, the orthogonalisation is provided by the \n",
    "    function decorrelate_weights which is called below.\n",
    "    \n",
    "    Uses kurtosis or negentropy, whichever is passed as input.\n",
    "    \"\"\"\n",
    "    \n",
    "    s_k = np.dot(W, Zcw)\n",
    "        \n",
    "    #Apply kurtosis or negentropy functions and derivatives.\n",
    "    G = func(s_k)\n",
    "    G_d = func_d(s_k)\n",
    "    N = G.shape[1]\n",
    "        \n",
    "    # Computes W_k+1, here called W_p.\n",
    "    W_p = (1/N) * np.dot(G, Zcw.transpose()) - np.matmul(np.diag(np.average(G_d, axis=1)), W)\n",
    "    \n",
    "    # Normalizes rows of W_p (W_k+1).\n",
    "    W_pn = normalize_rownorms(W_p)\n",
    "    \n",
    "    # Orthogonalization step:\n",
    "    W_pnd = decorrelate_weights(W_pn)\n",
    "\n",
    "    return W_pnd"
   ]
  },
  {
   "cell_type": "markdown",
   "metadata": {},
   "source": [
    "<h3>Measure of Convergence</h3>\n",
    "This function computes an error estimate for the maximisation iteration, it computes the convergence\n",
    "criterion (delta) given in the note.<sup>[1](#pb)</sup>\n",
    "Input: W1 is the previous iterate, and W2 is the one just computed.\n",
    "Output: The quantity delta which determines when the iterations converges.\n",
    "(Legg til likningen her)"
   ]
  },
  {
   "cell_type": "code",
   "execution_count": null,
   "metadata": {},
   "outputs": [],
   "source": [
    "def measure_of_convergence(W1, W2):\n",
    "    \n",
    "    a_s = np.absolute(np.sum(np.multiply(W2, W1), axis=1))\n",
    "    delta = np.absolute(np.amax((1-a_s)))\n",
    "    return delta"
   ]
  },
  {
   "cell_type": "code",
   "execution_count": null,
   "metadata": {},
   "outputs": [],
   "source": [
    "import warnings\n",
    "\n",
    "tol_default = 1e-10\n",
    "\n",
    "def fast_ICA(Z, signals_to_find, func, func_d, tol=tol_default, max_iter=100):\n",
    "    \"\"\" \n",
    "    This is the function that organises all the work.\n",
    "    \n",
    "    Input: Z is the unprocessed data\n",
    "           signals_to_find: in our case, always d the number of sources\n",
    "           tol is the tolerance, default value 1.0e-10\n",
    "           max_iter abort after max_iter iterations if not converged, (to avoid infinite loop)\n",
    "           Which function to measure gaussanity (kurtosis or negentropy)\n",
    "           \n",
    "    Output: Z_ica, the separated signals (dxN matrix, approximating the sources)\n",
    "            W The final converged W-matrix (dxd)\n",
    "            Also some other variables of interest can be returned if desired\n",
    "    \"\"\"\n",
    "   \n",
    "    # center the rows of Z\n",
    "    Z_cent = center_rows(Z)\n",
    "\n",
    "    # whiten the centered rows\n",
    "    Z_cent_wit, T = whiten_rows(Z_cent)\n",
    " \n",
    "    # Put W_0 = W to a random initial value and normalise the rows to length 1\n",
    "    M = Z_cent.shape[0]\n",
    "    W_0 = np.random.rand(M, M)\n",
    "    W_0 = normalize_rowsums(W_0)\n",
    "    \n",
    "    # Initialise some variables to prepare for the while-loop (such as delta)\n",
    "    delta = tol + 1\n",
    "    number_of_iter = 0\n",
    "\n",
    "    # while delta>tol and number_of_iterations < max_iter:\n",
    "    # an iteration to get a new W-iterate \n",
    "    # the error estimate to update delta\n",
    "\n",
    "    while delta > tol and number_of_iter < max_iter:\n",
    "        W_p  = update_W(W_0, Z_cent_wit, func, func_d)\n",
    "        delta = measure_of_convergence(W_0, W_p)\n",
    "        W_0 = W_p\n",
    "        number_of_iter += 1\n",
    "        \n",
    "    # Clean up, check if converged or max_iter attained\n",
    "    if number_of_iter == max_iter:\n",
    "        print('max_iter using reached \\ndelta: ', delta)\n",
    "        \n",
    "    else:\n",
    "        Z_ica = np.matmul(W_p, Z_cent_wit)\n",
    "        return Z_ica, W_p, number_of_iter"
   ]
  },
  {
   "cell_type": "code",
   "execution_count": null,
   "metadata": {},
   "outputs": [],
   "source": [
    "'''\n",
    "Runs the code and sepparates the audio!\n",
    "'''\n",
    "# Sepparates provided mix:\n",
    "print('Provided mix: \\n')\n",
    "\n",
    "print('kurtosis: \\n')\n",
    "Z_ica_kur, W_ica_kur, num_iter_kur = fast_ICA(data, 3, kurtosis, kurtosis_d)\n",
    "print('Numer of iterations: ', num_iter_kur, '\\n')\n",
    "\n",
    "print('negentropy: \\n')\n",
    "Z_ica_neg, W_ica_neg, num_iter_neg = fast_ICA(data, 3, negentropy, negentropy_d)\n",
    "print('Numer of iterations: ', num_iter_neg, '\\n')\n",
    "\n",
    "\n",
    "# Sepparates custom mix:\n",
    "print('Custom mix: \\n')\n",
    "\n",
    "print('kurtosis: \\n')\n",
    "Z_ica_kur1, W_ica_kur1, num_iter_kur1 = fast_ICA(data1, 3, kurtosis, kurtosis_d)\n",
    "print('Numer of iterations: ', num_iter_kur, '\\n')\n",
    "\n",
    "print('negentropy: \\n')\n",
    "Z_ica_neg1, W_ica_neg1, num_iter_kur1 = fast_ICA(data, 3, negentropy, negentropy_d)\n",
    "print('Numer of iterations: ', num_iter_kur, '\\n')"
   ]
  },
  {
   "cell_type": "markdown",
   "metadata": {},
   "source": [
    "<h2>3 - Results</h2>\n",
    "\n",
    "Below both the original mixed and the unmixed files can be played back and compared."
   ]
  },
  {
   "cell_type": "markdown",
   "metadata": {},
   "source": [
    "<h3>The provided mixed audio:</h3>"
   ]
  },
  {
   "cell_type": "code",
   "execution_count": null,
   "metadata": {},
   "outputs": [],
   "source": [
    "for i in range(data.shape[0]):\n",
    "    ipd.display(ipd.Audio(data[i,:], rate=sampling_rate))"
   ]
  },
  {
   "cell_type": "markdown",
   "metadata": {},
   "source": [
    "<h3>The provided audio unmixed(kurtosis):</h3>"
   ]
  },
  {
   "cell_type": "code",
   "execution_count": null,
   "metadata": {},
   "outputs": [],
   "source": [
    "for i in range(data.shape[0]):\n",
    "    ipd.display(ipd.Audio(Z_ica_kur[i,:], rate=sampling_rate))"
   ]
  },
  {
   "cell_type": "markdown",
   "metadata": {},
   "source": [
    "<h3>The provided audio unmixed(negentropy):</h3>"
   ]
  },
  {
   "cell_type": "code",
   "execution_count": null,
   "metadata": {},
   "outputs": [],
   "source": [
    "for i in range(data.shape[0]):\n",
    "    ipd.display(ipd.Audio(Z_ica_neg[i,:], rate=sampling_rate))"
   ]
  },
  {
   "cell_type": "markdown",
   "metadata": {},
   "source": [
    "<h3>The custum audio mixed:</h3>"
   ]
  },
  {
   "cell_type": "code",
   "execution_count": null,
   "metadata": {},
   "outputs": [],
   "source": [
    "for i in range(data1.shape[0]):\n",
    "    ipd.display(ipd.Audio(data_mixed1[i,:], rate=sampling_rate1))"
   ]
  },
  {
   "cell_type": "markdown",
   "metadata": {},
   "source": [
    "<h3>The custom audio unmixed(kurtosis):</h3>"
   ]
  },
  {
   "cell_type": "code",
   "execution_count": null,
   "metadata": {},
   "outputs": [],
   "source": [
    "for i in range(data1.shape[0]):\n",
    "    ipd.display(ipd.Audio(Z_ica_kur1[i,:], rate=sampling_rate1))"
   ]
  },
  {
   "cell_type": "markdown",
   "metadata": {},
   "source": [
    "<h3>The custom audio unmixed(negentropy):</h3>"
   ]
  },
  {
   "cell_type": "code",
   "execution_count": null,
   "metadata": {},
   "outputs": [],
   "source": [
    "for i in range(data1.shape[0]):\n",
    "    ipd.display(ipd.Audio(Z_ica_neg1[i,:], rate=sampling_rate1))"
   ]
  },
  {
   "cell_type": "code",
   "execution_count": null,
   "metadata": {},
   "outputs": [],
   "source": [
    "import matplotlib.pyplot as plt\n",
    "\n",
    "\n",
    "num_iter = 5;\n",
    "\n",
    "num_iter_vec_kur = np.zeros(num_iter)\n",
    "num_iter_vec_neg = np.zeros(num_iter)\n",
    "\n",
    "\n",
    "x_vec = np.linspace(1,20,20)\n",
    "y_vec_kur = np.zeros(20)\n",
    "y_vec_neg = np.zeros(20)\n",
    "\n",
    "print('finishes at: ', num_iter)\n",
    "print('progress: ', end='')\n",
    "for i in range(num_iter):\n",
    "    Z_ica_kur, W_ica_kur, num_iter_kur = fast_ICA(data, 3, kurtosis, kurtosis_d)\n",
    "    Z_ica_neg, W_ica_neg, num_iter_neg = fast_ICA(data, 3, negentropy, negentropy_d)\n",
    "\n",
    "    Z_ica_kur1, W_ica_kur1, num_iter_kur1 = fast_ICA(data1, 3, kurtosis, kurtosis_d)\n",
    "    Z_ica_neg1, W_ica_neg1, num_iter_kur1 = fast_ICA(data, 3, negentropy, negentropy_d)\n",
    "    \n",
    "    num_iter_vec_kur[i] = num_iter_kur\n",
    "    num_iter_vec_neg[i] = num_iter_neg\n",
    "    \n",
    "    y_vec_kur[num_iter_kur] += 1\n",
    "    y_vec_neg[num_iter_neg] += 1\n",
    "    \n",
    "    print(i, end='')\n",
    "\n",
    "plt.bar(x_vec, y_vec_kur)\n",
    "plt.title(\"Provided audio - Kurtosis\")\n",
    "plt.xlabel(\"Number of iterations\")\n",
    "plt.ylabel(\"Number of occurences\")\n",
    "plt.show()\n",
    "\n",
    "plt.bar(x_vec, y_vec_neg)\n",
    "plt.title(\"Provided audio - Negentropy\")\n",
    "plt.xlabel(\"Number of iterations\")\n",
    "plt.ylabel(\"Number of occurences\")\n",
    "plt.show()"
   ]
  },
  {
   "cell_type": "markdown",
   "metadata": {},
   "source": [
    "<h2>Discussion and Conclusion</h2>\n",
    "\n",
    "Not sure what to say here thoo.\n",
    "\n",
    "\n",
    "Would be cool to log number of iterations for kurtosis and negentropy and occurrence for many runs, and eventually plot to get comparison data.\n",
    "-Could make a cell that runs the algorith say 20 times, and makes the plots, but it will have a significant runtime, so it should be placed late(last) in the document. If done like this one should be vary of this cell when using \"run all\".\n"
   ]
  },
  {
   "cell_type": "markdown",
   "metadata": {},
   "source": [
    "<h2>References</h2>\n",
    "    <a name=\"pb\">1</a>: TMA4320 – våren 2019, Prosjekt 1: Blind source separation, B. Owren, 2019"
   ]
  },
  {
   "cell_type": "code",
   "execution_count": null,
   "metadata": {},
   "outputs": [],
   "source": []
  }
 ],
 "metadata": {
  "language_info": {
   "name": "python",
   "pygments_lexer": "ipython3"
  }
 },
 "nbformat": 4,
 "nbformat_minor": 2
}
