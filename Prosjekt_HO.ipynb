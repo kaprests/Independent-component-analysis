{
 "cells": [
  {
   "cell_type": "markdown",
   "metadata": {},
   "source": [
    "<h1>TMA4320 - Blind Source Sepparation with Independent Component Analysis</h1>\n",
    "<p>Notebook and associated data and source code is hosted at: <a href=\"https://github.com/kaprests/TMA4320-project1\">GitHub</a></p>\n",
    "<h3>Gruppe 21 - K.A. Prestsveen og H.V. Skaldebø<h3>\n",
    "<h2>Abstract</h2>\n",
    "<p>This notebook is the first project in TMA4320 at the Norwegian University of Science and Technology. It describes the basic principles of independent component analysis, and demonstrates it by sepparating mixed sound signals into separate, distinguishable components.</p>"
   ]
  },
  {
   "cell_type": "markdown",
   "metadata": {},
   "source": [
    "<h2>1 - Introduction</h2>\n",
    "The purpose of this project is to simulate the Cocktail party effect(CPE) with blind source sepparation, using independent component analysis (ICA). The CPE is a psychological effect allowing the human brain to distinguish conversations or sounds from e.g. a noisy room with several different sound sources. The noisy room is simulated with  a provided audiomix of three sources which is sepparated into independent, distinguishable sound clips using ICA. \n",
    "\n",
    "Each signal $j$ of length $T$ is described by a function $s_{j}(t),$ $t  \\epsilon [0,T]$ at time $t$. Combining the signals with weights $a_{ij}$, depending upon the distance from the source, one gets a linear combination $x_{i}$ describing the mixed sound recorded of microphone *i*. In this notebook the number of sources $j$ is assumed to be equal to the number of microphones $i$, making things a little simpler.\n",
    "\n",
    "$$x_{i}(t) = a_{i1}s_{1}(t) + ... + a_{id}s_{d}(t), i = 1, 2, ... , n$$\n",
    "\n",
    "With a digital signal each source and recording will be described by a discrete, sampled signal instead of a continious function like above. The sampled signals from all the sources and the recorded audio of all the microphones can then be described with the $dxN$ matrixes <b>s</b> and <b>x</b>, with $d$ being the number of sources or microphones and $N$ the number of discrete signals determined by the length of the sound clip (s) times the sample rate (Hz).\n",
    "\n",
    "$$ \\mathbf{s} = \\begin{bmatrix}\n",
    "    s_{1}(t_{0}) & \\dots & s_{1}(t_{N}) \\\\\n",
    "    s_{2}(t_{0}) & \\dots & s_{2}(t_{N}) \\\\\n",
    "    . & \\dots & . \\\\\n",
    "    . & \\dots & . \\\\\n",
    "    . & \\dots & . \\\\\n",
    "    s_{d}(t_{0}) & \\dots & s_{d}(t_{N})\n",
    "\\end{bmatrix}\n",
    ",  \\mathbf{x} = \\begin{bmatrix}\n",
    "    x_{1}(t_{0}) & \\dots & x_{1}(t_{N}) \\\\\n",
    "    x_{2}(t_{0}) & \\dots & x_{2}(t_{N}) \\\\ \n",
    "    . & \\dots & . \\\\\n",
    "    . & \\dots & . \\\\\n",
    "    . & \\dots & . \\\\\n",
    "    x_{d}(t_{0}) & \\dots & x_{d}(t_{N})\n",
    "\\end{bmatrix}\n",
    "$$\n",
    "\n",
    "The number of sources and microphones $d$ will typically be a very small number compared to $N$, for the audio signals used here $d = 3$ and $N = 5000$. The matrix **A** containing the weights $a_{ij}$ is not displayed.\n",
    "\n",
    "\n",
    "<h2>Independent Component Analysis</h2>\n",
    "<b>This is just a very brief review of the basic ideas behind ICA, which is more thoroghly explained in \"Independent component analysis: algorithms and applications\"<a href=\"#article\" id=\"article\"><sup>2</sup></a></b>.\n",
    "\n",
    "Independent component analysis is, as the name suggests, a way to unmix and reconstruct the original signals given signals mixed in an arbitrary or unknown way. An important assumtion of the method is that the signals are statistically independent, and so the analysis is not expected to work if this is not fullfilled. It is also assumed that the signals are non-gaussian, meaning they are not distributed according to the normaldistribution.\n",
    "\n",
    "The goal is to find an \"unmix matrix\" $W$ which essentially tries to transform the mixed data back into something resembling the original, unmixed signals, and since the original signals are assumed to be non-gaussian, the idea is to maximize the non-gaussianity of $y(t)$.\n",
    "\n",
    "$$ \\mathbf{y(t)} = \\begin{bmatrix}\n",
    "    W_{1,1} & \\dots & W_{1,d} \\\\\n",
    "    s_{2,1} & \\dots & W_{2,d} \\\\\n",
    "    . & \\dots & . \\\\\n",
    "    . & \\dots & . \\\\\n",
    "    . & \\dots & . \\\\\n",
    "    W_{d,1} & \\dots & W_{d,d}\n",
    "\\end{bmatrix}\n",
    ".\n",
    "\\begin{bmatrix}\n",
    "    x_{1}(t_{0}) & \\dots & x_{1}(t_{N}) \\\\\n",
    "    x_{2}(t_{0}) & \\dots & x_{2}(t_{N}) \\\\ \n",
    "    . & \\dots & . \\\\\n",
    "    . & \\dots & . \\\\\n",
    "    . & \\dots & . \\\\\n",
    "    x_{d}(t_{0}) & \\dots & x_{d}(t_{N})\n",
    "\\end{bmatrix}\n",
    "$$\n",
    "\n",
    "Kurtosis and negentropy are two different measurments of non-gaussianity, and to maximize the non-gaussianity of y(t), the algorithm maximizes the kurtosis or negentropy of the unmix matrix $W$."
   ]
  },
  {
   "cell_type": "markdown",
   "metadata": {},
   "source": [
    "<h2>2 - The Algorithm</h2>"
   ]
  },
  {
   "cell_type": "markdown",
   "metadata": {},
   "source": [
    "<h2>2.1 - Preparations</h2>\n",
    "\n",
    "Firsly we need to import the data (sound files) that we will be working with and make them playable. The three cells below uploads the provided sound files, utilising the provided script \"wav_file_loader.py\", and the files are assumed to be placed in <b>.audio/</b>.\n"
   ]
  },
  {
   "cell_type": "code",
   "execution_count": null,
   "metadata": {},
   "outputs": [],
   "source": [
    "'''This cell uploads the files that are to be decomposed.'''\n",
    "\n",
    "import numpy as np\n",
    "from wav_file_loader import read_wavefiles\n",
    "\n",
    "paths = ['audio/mix_1.wav', 'audio/mix_2.wav', 'audio/mix_3.wav']\n",
    "data, sampling_rate = read_wavefiles(paths)\n",
    "num_signals = data.shape[0]"
   ]
  },
  {
   "cell_type": "code",
   "execution_count": null,
   "metadata": {},
   "outputs": [],
   "source": [
    "'''This cell normalizes the signals to a common volume level.'''\n",
    "\n",
    "def normalize_audio(data):\n",
    "    # Scale amplitude s.t. max(data[i]) == 1.\n",
    "    abs_data = np.absolute(data)\n",
    "    maximums = np.amax(abs_data,1)\n",
    "    \n",
    "    # Divide each row by a different vector element:\n",
    "    data = data / maximums.reshape((3,1))\n",
    "    return data\n",
    "\n",
    "data = normalize_audio(data)"
   ]
  },
  {
   "cell_type": "markdown",
   "metadata": {},
   "source": [
    "The output widgets of the cells below allows playback of the provided mixed audio."
   ]
  },
  {
   "cell_type": "code",
   "execution_count": null,
   "metadata": {},
   "outputs": [],
   "source": [
    "'''This cell makes widgets for playing the uploaded clips.'''\n",
    "\n",
    "import IPython.display as ipd\n",
    "\n",
    "for i in range(data.shape[0]):\n",
    "    ipd.display(ipd.Audio(data[i,:], rate=sampling_rate))"
   ]
  },
  {
   "cell_type": "markdown",
   "metadata": {},
   "source": [
    "<h2>2.2 - Mixing</h2>\n",
    "\n",
    "The cells in this section is for mixing sepparate, clear audio into noisy clips. This is used to create some custom clips to further test the algorithm."
   ]
  },
  {
   "cell_type": "code",
   "execution_count": null,
   "metadata": {},
   "outputs": [],
   "source": [
    "def normalize_rowsums(A):\n",
    "    '''\n",
    "    Divides each row in A by its sum.\n",
    "    The sum of each row in the result is 1.0.\n",
    "    '''\n",
    "    \n",
    "    the_sum = np.sum(A,1)\n",
    "    A = A / the_sum.reshape((3,1))\n",
    "    return A\n",
    "\n",
    "def random_mixing_matrix(signals, observations):\n",
    "    '''\n",
    "    Creates a random matrix\n",
    "    Each element is a small positive number, not too close to 0.\n",
    "    (1/11, 5/7).\n",
    "    '''\n",
    "    \n",
    "    A = 0.25 + np.random.rand(observations, signals)\n",
    "    return normalize_rowsums(A)\n"
   ]
  },
  {
   "cell_type": "code",
   "execution_count": null,
   "metadata": {},
   "outputs": [],
   "source": [
    "A = random_mixing_matrix(num_signals, num_signals)\n",
    "data_mixed = normalize_audio(A @ data)"
   ]
  },
  {
   "cell_type": "markdown",
   "metadata": {},
   "source": [
    "Again, the widgets outputed by the cell below allows playback of the provided mixed audio."
   ]
  },
  {
   "cell_type": "code",
   "execution_count": null,
   "metadata": {},
   "outputs": [],
   "source": [
    "for i in range(data.shape[0]):\n",
    "    ipd.display(ipd.Audio(data[i,:], rate=sampling_rate))"
   ]
  },
  {
   "cell_type": "markdown",
   "metadata": {},
   "source": [
    "<h2>2.3 - Custom Sound Clips</h2>\n",
    "\n",
    "The cell below combines the functions from the above two sections(2.1 and 2.2) to upload and mix some audio of our own, and makes the resulting mix playable using the outputted widgets. This is decomposed together with the provided audio when the algorithm is run."
   ]
  },
  {
   "cell_type": "code",
   "execution_count": null,
   "metadata": {},
   "outputs": [],
   "source": [
    "paths1 = ['audio/clip1.wav', 'audio/clip2.wav', 'audio/clip3.wav']\n",
    "data1, sampling_rate1 = read_wavefiles(paths1)\n",
    "num_signals1 = data1.shape[0]\n",
    "\n",
    "B = random_mixing_matrix(num_signals1, num_signals1)\n",
    "data_mixed1 = normalize_audio(B @ data1)\n",
    "\n",
    "for i in range(data1.shape[0]):\n",
    "    ipd.display(ipd.Audio(data_mixed1[i,:], rate=sampling_rate1))"
   ]
  },
  {
   "cell_type": "markdown",
   "metadata": {},
   "source": [
    "<h2>2.4 - Preprocessing</h2>\n",
    "\n",
    "The following cell contains the preprocessing functions <font color='blue'> center_rows() </font> and <font color='blue'> whiten_rows() </font>. The absolute value of the signals does not matter, and thus we can make calculations easier by transforming the data so that the signals oscillates around an expected value of zero. The first function <font color='blue'> center_rows() </font> takes care of this by subtracting the mean of each row $x_{j}(t_{i})$ from the inputed matrix containing the sampled data, as described in equation \\ref{ligning2 :p}.\n",
    "\n",
    "** Ligning to fra beskrivelsen **\n",
    "\n",
    "er en diskret variabel, dvs\n",
    "\n",
    "så modifiserer vi hvert av\n",
    "signalene slik\n",
    "\n",
    "Dette gjør vi med hver av de\n",
    "d\n",
    "radene i\n",
    "x\n",
    "og får ut en såkalt sentrert\n",
    "versjon av dataene.  For å unngå å lage mye unødvendig notasjon, så\n",
    "antar vi i det videre at matrisen\n",
    "x\n",
    "er slik at radene summerer seg til 0,\n",
    "dvs de er blitt sentrert."
   ]
  },
  {
   "cell_type": "code",
   "execution_count": null,
   "metadata": {},
   "outputs": [],
   "source": [
    "def center_rows(Z):\n",
    "    \"\"\"\n",
    "    Ensures each row has zero mean.\n",
    "    Takes a matrix of arbitrary shape and subtracts from each row the mean value of that row.\n",
    "    \"\"\"\n",
    "    \n",
    "    # The code returns a dxN-matrix, say Zc, where each row has zero mean\n",
    "    row_means = np.mean(Z, axis=1)\n",
    "    Z_transposed = Z.transpose()\n",
    "    Zc_transposed = Z_transposed - row_means\n",
    "    Zc = Zc_transposed.transpose()\n",
    "    return Zc #, mus\n",
    "\n",
    "\n",
    "def whiten_rows(Z):\n",
    "    \"\"\"\n",
    "    Return whitened version of Z and the matrix for the transform, say Zw, T, where Zw=T*Z\n",
    "    \"\"\"\n",
    "    \n",
    "    # Covariance matrix, C\n",
    "    C = np.cov(Z)\n",
    "    \n",
    "    # The following two statements compute T (inverse square root of C).\n",
    "    U, S, _ = np.linalg.svd(C, full_matrices=False)\n",
    "    T  = U @ np.diag(1 / np.sqrt(S)) @ U.T\n",
    "    \n",
    "    # Finally the withened version of Z, Zw\n",
    "    Zw = np.matmul(T,Z)\n",
    "    \n",
    "    return Zw, T"
   ]
  },
  {
   "cell_type": "markdown",
   "metadata": {},
   "source": [
    "<h2>2.5 - Main Iteration - Maximization of Non-gaussianity(??)</h2>"
   ]
  },
  {
   "cell_type": "code",
   "execution_count": null,
   "metadata": {},
   "outputs": [],
   "source": [
    "def normalize_rownorms(Z):\n",
    "    \"\"\"\n",
    "    Divides each row in matrix Z by its Euclidean norm, \n",
    "    so that he norm of each row in the output is equal to one.\n",
    "    \n",
    "    It first computes the Euclidean norm of each row of the input matrix Z,\n",
    "    then scales each row by this norm. \n",
    "    \"\"\"\n",
    "     \n",
    "    e_norms = np.linalg.norm(Z, axis=1)\n",
    "    Z_trans = Z.transpose()\n",
    "    Z_norm_trans = Z_trans / e_norms\n",
    "    Z_norm = Z_norm_trans.transpose()\n",
    "    return Z_norm"
   ]
  },
  {
   "cell_type": "code",
   "execution_count": null,
   "metadata": {},
   "outputs": [],
   "source": [
    "def decorrelate_weights(W):\n",
    "    \"\"\"\n",
    "    This is the orthogonalization step (or decorrelation step) The dxd input matrix W is projected onto an \n",
    "    orthogonal matrix by the transformation Wd = (WW^T)^{-1/2} W as described in the note. The single output \n",
    "    argument is the projected W-matrix (Wd).\n",
    "    \n",
    "    Uses a similar technque for computing the inverse square root as in the whitening step.\n",
    "    \"\"\"\n",
    "    \n",
    "    # Matrix product of W and its transposed\n",
    "    WW_T = np.matmul(W,W.transpose())\n",
    "    \n",
    "    # Computes T, the inverse square root of WW_T\n",
    "    U, S, _ = np.linalg.svd(WW_T, full_matrices=False)\n",
    "    T = U @ np.diag(1 / np.sqrt(S)) @ U.transpose()\n",
    "    \n",
    "    # Finally computes the decorrelated matrix Wd\n",
    "    Wd = np.matmul(T, W)\n",
    "\n",
    "    return Wd\n"
   ]
  },
  {
   "cell_type": "code",
   "execution_count": null,
   "metadata": {},
   "outputs": [],
   "source": [
    "    # kurtosis and derivative as lambda funtions.\n",
    "    kurtosis = lambda u: 4*(u**3)\n",
    "    kurtosis_d = lambda u: 12*(u**2)\n",
    "    \n",
    "    # negentropy and derivative as lambda functions.\n",
    "    negentropy = lambda u: u * np.exp(-((u**2)/2))\n",
    "    negentropy_d = lambda u: -np.exp(-((u**2)/2)) * (u**2 - 1)\n",
    " "
   ]
  },
  {
   "cell_type": "code",
   "execution_count": null,
   "metadata": {},
   "outputs": [],
   "source": [
    "def update_W(W, Zcw, func, func_d):\n",
    "    \"\"\"\n",
    "    Calculates W_k+1 from W_k.\n",
    "    The input is W=W_k (d x d) as well as the cenztered, whitened data Zcw (dxN known as tilde{x} in the note)\n",
    "    Output is the new W (W_{k+1}).\n",
    "    \n",
    "    This function does the two iteration steps in the note: The optimisation step and the \n",
    "    orthogonalisation (decorrelation) step. The first step, the orthogonalisation is provided by the \n",
    "    function decorrelate_weights which is called below.\n",
    "    \n",
    "    Uses kurtosis or negentropy, whichever is passed as input.\n",
    "    \"\"\"\n",
    "    \n",
    "    s_k = np.dot(W, Zcw)\n",
    "        \n",
    "    #Apply kurtosis or negentropy functions and derivatives.\n",
    "    G = func(s_k)\n",
    "    G_d = func_d(s_k)\n",
    "    N = G.shape[1]\n",
    "        \n",
    "    # Computes W_k+1, here called W_p.\n",
    "    W_p = (1/N) * np.dot(G, Zcw.transpose()) - np.matmul(np.diag(np.average(G_d, axis=1)), W)\n",
    "    \n",
    "    # Normalizes rows of W_p (W_k+1).\n",
    "    W_pn = normalize_rownorms(W_p)\n",
    "    \n",
    "    # Orthogonalization step:\n",
    "    W_pnd = decorrelate_weights(W_pn)\n",
    "\n",
    "    return W_pnd"
   ]
  },
  {
   "cell_type": "markdown",
   "metadata": {},
   "source": [
    "<h3>Measure of Convergence</h3>\n",
    "This function computes an error estimate for the maximisation iteration, the convergence\n",
    "criterion (delta) given in the note.<a href=\"#pb\" id=\"pb\"><sup>[1]</sup></a><br/>\n",
    "$$\\delta = \\max\\limits_{1\\leq i\\leq d} \\left(1- \\sum_{j=1}^d (\\mathbf{W}_{k})_{ij}(\\mathbf{W}_{k-1})_{ij} \\right)$$\n",
    "Input: W1 is the previous iterate, and W2 is the one just computed.<br/>\n",
    "Output: The quantity delta which determines when the iterations converges.<br/>"
   ]
  },
  {
   "cell_type": "code",
   "execution_count": null,
   "metadata": {},
   "outputs": [],
   "source": [
    "def measure_of_convergence(W1, W2):\n",
    "    \n",
    "    a_s = np.absolute(np.sum(np.multiply(W2, W1), axis=1))\n",
    "    delta = np.absolute(np.amax((1-a_s)))\n",
    "    return delta"
   ]
  },
  {
   "cell_type": "code",
   "execution_count": null,
   "metadata": {},
   "outputs": [],
   "source": [
    "import warnings\n",
    "\n",
    "tol_default = 1e-10\n",
    "\n",
    "def fast_ICA(Z, signals_to_find, func, func_d, tol=tol_default, max_iter=100):\n",
    "    \"\"\" \n",
    "    This is the function that organises all the work.\n",
    "    \n",
    "    Input: Z is the unprocessed data\n",
    "           signals_to_find: in our case, always d the number of sources\n",
    "           tol is the tolerance, default value 1.0e-10\n",
    "           max_iter abort after max_iter iterations if not converged, (to avoid infinite loop)\n",
    "           Which function to measure gaussanity (kurtosis or negentropy)\n",
    "           \n",
    "    Output: Z_ica, the separated signals (dxN matrix, approximating the sources)\n",
    "            W The final converged W-matrix (dxd)\n",
    "            Also some other variables of interest can be returned if desired\n",
    "    \"\"\"\n",
    "   \n",
    "    # center the rows of Z\n",
    "    Z_cent = center_rows(Z)\n",
    "\n",
    "    # whiten the centered rows\n",
    "    Z_cent_wit, T = whiten_rows(Z_cent)\n",
    " \n",
    "    # Put W_0 = W to a random initial value and normalise the rows to length 1\n",
    "    M = Z_cent.shape[0]\n",
    "    W_0 = np.random.rand(M, M)\n",
    "    W_0 = normalize_rowsums(W_0)\n",
    "    \n",
    "    # Initialise some variables to prepare for the while-loop (such as delta)\n",
    "    delta = tol + 1\n",
    "    number_of_iter = 0\n",
    "\n",
    "    # while delta>tol and number_of_iterations < max_iter:\n",
    "    # an iteration to get a new W-iterate \n",
    "    # the error estimate to update delta\n",
    "\n",
    "    while delta > tol and number_of_iter < max_iter:\n",
    "        W_p  = update_W(W_0, Z_cent_wit, func, func_d)\n",
    "        delta = measure_of_convergence(W_0, W_p)\n",
    "        W_0 = W_p\n",
    "        number_of_iter += 1\n",
    "        \n",
    "    # Clean up, check if converged or max_iter attained\n",
    "    if number_of_iter == max_iter:\n",
    "        print('max_iter using reached \\ndelta: ', delta)\n",
    "        \n",
    "    else:\n",
    "        Z_ica = np.matmul(W_p, Z_cent_wit)\n",
    "        return Z_ica, W_p, number_of_iter"
   ]
  },
  {
   "cell_type": "code",
   "execution_count": null,
   "metadata": {},
   "outputs": [],
   "source": [
    "'''\n",
    "Runs the code and sepparates the audio!\n",
    "'''\n",
    "# Sepparates provided mix:\n",
    "print('Provided mix: \\n')\n",
    "\n",
    "print('kurtosis: \\n')\n",
    "Z_ica_kur, W_ica_kur, num_iter_kur = fast_ICA(data, 3, kurtosis, kurtosis_d)\n",
    "print('Numer of iterations: ', num_iter_kur, '\\n')\n",
    "\n",
    "print('negentropy: \\n')\n",
    "Z_ica_neg, W_ica_neg, num_iter_neg = fast_ICA(data, 3, negentropy, negentropy_d)\n",
    "print('Numer of iterations: ', num_iter_neg, '\\n')\n",
    "\n",
    "\n",
    "# Sepparates custom mix:\n",
    "print('Custom mix: \\n')\n",
    "\n",
    "print('kurtosis: \\n')\n",
    "Z_ica_kur1, W_ica_kur1, num_iter_kur1 = fast_ICA(data1, 3, kurtosis, kurtosis_d)\n",
    "print('Numer of iterations: ', num_iter_kur, '\\n')\n",
    "\n",
    "print('negentropy: \\n')\n",
    "Z_ica_neg1, W_ica_neg1, num_iter_kur1 = fast_ICA(data1, 3, negentropy, negentropy_d)\n",
    "print('Numer of iterations: ', num_iter_kur, '\\n')"
   ]
  },
  {
   "cell_type": "markdown",
   "metadata": {},
   "source": [
    "<h2>3 - Results</h2>\n",
    "\n",
    "Below both the original mixed and the unmixed files can be played back and compared."
   ]
  },
  {
   "cell_type": "markdown",
   "metadata": {},
   "source": [
    "<h3>The provided mixed audio:</h3>"
   ]
  },
  {
   "cell_type": "code",
   "execution_count": null,
   "metadata": {},
   "outputs": [],
   "source": [
    "for i in range(data.shape[0]):\n",
    "    ipd.display(ipd.Audio(data[i,:], rate=sampling_rate))"
   ]
  },
  {
   "cell_type": "markdown",
   "metadata": {},
   "source": [
    "<h3>The provided audio unmixed(kurtosis):</h3>"
   ]
  },
  {
   "cell_type": "code",
   "execution_count": null,
   "metadata": {},
   "outputs": [],
   "source": [
    "for i in range(data.shape[0]):\n",
    "    ipd.display(ipd.Audio(Z_ica_kur[i,:], rate=sampling_rate))"
   ]
  },
  {
   "cell_type": "markdown",
   "metadata": {},
   "source": [
    "<h3>The provided audio unmixed(negentropy):</h3>"
   ]
  },
  {
   "cell_type": "code",
   "execution_count": null,
   "metadata": {},
   "outputs": [],
   "source": [
    "for i in range(data.shape[0]):\n",
    "    ipd.display(ipd.Audio(Z_ica_neg[i,:], rate=sampling_rate))"
   ]
  },
  {
   "cell_type": "markdown",
   "metadata": {},
   "source": [
    "<h3>The custom audio mixed:</h3>"
   ]
  },
  {
   "cell_type": "code",
   "execution_count": null,
   "metadata": {},
   "outputs": [],
   "source": [
    "for i in range(data1.shape[0]):\n",
    "    ipd.display(ipd.Audio(data_mixed1[i,:], rate=sampling_rate1))"
   ]
  },
  {
   "cell_type": "markdown",
   "metadata": {},
   "source": [
    "<h3>The custom audio unmixed(kurtosis):</h3>"
   ]
  },
  {
   "cell_type": "code",
   "execution_count": null,
   "metadata": {},
   "outputs": [],
   "source": [
    "for i in range(data1.shape[0]):\n",
    "    ipd.display(ipd.Audio(Z_ica_kur1[i,:], rate=sampling_rate1))"
   ]
  },
  {
   "cell_type": "markdown",
   "metadata": {},
   "source": [
    "<h3>The custom audio unmixed(negentropy):</h3>"
   ]
  },
  {
   "cell_type": "code",
   "execution_count": null,
   "metadata": {},
   "outputs": [],
   "source": [
    "for i in range(data1.shape[0]):\n",
    "    ipd.display(ipd.Audio(Z_ica_neg1[i,:], rate=sampling_rate1))"
   ]
  },
  {
   "cell_type": "markdown",
   "metadata": {},
   "source": [
    "<h2>Discussion and Conclusion</h2>\n",
    "Both the provided and custom audio was succesfully unmixed using the algorithm. Neat-o. \n",
    "\n",
    "By listening to the audio clips there is no immidiate difference between the measurements of non-gaussianity. Based on the random matrix $W_0$ the number of iterations will also be fairly similar or even the same. To examine the difference in measurements the algorithm will be run for X iterations and plotted using the Python library Matplotlib. To ensure the following conclusion is consistent, comments will be based on pre-saved pdf-files of the plots. However, the next cell includes the code used to plot the diagrams and save them in a pdf."
   ]
  },
  {
   "cell_type": "code",
   "execution_count": 55,
   "metadata": {},
   "outputs": [
    {
     "name": "stdout",
     "output_type": "stream",
     "text": [
      "finishes at:  100\n",
      "progress: 123456789101112131415161718192021222324252627282930313233343536373839404142434445464748495051525354555657585960616263646566676869707172737475767778798081828384858687888990919293949596979899100Mean value of Provided audio - Kurtosis:  4.0\n",
      "Mean value of Provided audio - Negentropy:  4.0\n",
      "Mean value of Custom audio - Kurtosis:  4.0\n",
      "Mean value of Custom audio - Negentropy:  4.0\n"
     ]
    },
    {
     "data": {
      "image/png": "[encoded data removed]",
      "text/plain": [
       "<Figure size 432x288 with 1 Axes>"
      ]
     },
     "metadata": {
      "needs_background": "light"
     },
     "output_type": "display_data"
    },
    {
     "data": {
      "image/png": "[encoded data removed]",
      "text/plain": [
       "<Figure size 432x288 with 1 Axes>"
      ]
     },
     "metadata": {
      "needs_background": "light"
     },
     "output_type": "display_data"
    },
    {
     "data": {
      "image/png": "[encoded data removed]",
      "text/plain": [
       "<Figure size 432x288 with 1 Axes>"
      ]
     },
     "metadata": {
      "needs_background": "light"
     },
     "output_type": "display_data"
    },
    {
     "data": {
      "image/png": "[encoded data removed]",
      "text/plain": [
       "<Figure size 432x288 with 1 Axes>"
      ]
     },
     "metadata": {
      "needs_background": "light"
     },
     "output_type": "display_data"
    }
   ],
   "source": [
    "'''\n",
    "This code may take a long time to run depending on chosen value for num_iter.\n",
    "\n",
    "It is also somewhat sloppy written as it will crash in the unlucky case of fast_ICA getting a run of \n",
    "more than 25 iterations to reach convergence.\n",
    "\n",
    "Uncomment code below to generate own figures. Pregenerated figures at at the bottom.\n",
    "'''\n",
    "\n",
    "\n",
    "import matplotlib.pyplot as plt\n",
    "\n",
    "\n",
    "num_iter = 100;\n",
    "x_vec = np.linspace(1,25,25)\n",
    "\n",
    "# provided audio\n",
    "num_iter_vec_kur = np.zeros(num_iter)\n",
    "num_iter_vec_neg = np.zeros(num_iter)\n",
    "\n",
    "# custom audio\n",
    "num_iter_vec_kur1 = np.zeros(num_iter)\n",
    "num_iter_vec_neg1 = np.zeros(num_iter)\n",
    "\n",
    "# provided audio\n",
    "y_vec_kur = np.zeros(25)\n",
    "y_vec_neg = np.zeros(25)\n",
    "\n",
    "# custom audio\n",
    "y_vec_kur1 = np.zeros(25)\n",
    "y_vec_neg1 = np.zeros(25)\n",
    "\n",
    "print('finishes at: ', num_iter)\n",
    "print('progress: ', end='')\n",
    "for i in range(num_iter):\n",
    "    # provided audio\n",
    "    Z_ica_kur, W_ica_kur, num_iter_kur = fast_ICA(data, 3, kurtosis, kurtosis_d)\n",
    "    Z_ica_neg, W_ica_neg, num_iter_neg = fast_ICA(data, 3, negentropy, negentropy_d)\n",
    "    \n",
    "    num_iter_vec_kur[i] = num_iter_kur\n",
    "    num_iter_vec_neg[i] = num_iter_neg\n",
    "\n",
    "    # custom audio\n",
    "    Z_ica_kur1, W_ica_kur1, num_iter_kur1 = fast_ICA(data1, 3, kurtosis, kurtosis_d)\n",
    "    Z_ica_neg1, W_ica_neg1, num_iter_kur1 = fast_ICA(data, 3, negentropy, negentropy_d)\n",
    "    \n",
    "    num_iter_vec_kur1[i] = num_iter_kur\n",
    "    num_iter_vec_neg1[i] = num_iter_neg\n",
    "    \n",
    "    # provided audio\n",
    "    y_vec_kur[num_iter_kur] += 1\n",
    "    y_vec_neg[num_iter_neg] += 1\n",
    "    \n",
    "    #custom audio\n",
    "    y_vec_kur1[num_iter_kur] += 1\n",
    "    y_vec_neg1[num_iter_neg] += 1\n",
    "    \n",
    "    # progression\n",
    "    print(i+1, end='')\n",
    "\n",
    "print(\"Mean value of Provided audio - Kurtosis: \", np.average(y_vec_kur))\n",
    "print(\"Mean value of Provided audio - Negentropy: \", np.average(y_vec_neg))\n",
    "print(\"Mean value of Custom audio - Kurtosis: \", np.average(y_vec_kur1))\n",
    "print(\"Mean value of Custom audio - Negentropy: \", np.average(y_vec_neg1))\n",
    "\n",
    "plt.bar(x_vec, y_vec_kur)\n",
    "plt.title(\"Provided audio - Kurtosis\")\n",
    "plt.xlabel(\"Number of iterations\")\n",
    "plt.ylabel(\"Number of occurences\")\n",
    "plt.savefig(\"pa_kur.png\")\n",
    "plt.show()\n",
    "\n",
    "\n",
    "plt.bar(x_vec, y_vec_neg)\n",
    "plt.title(\"Provided audio - Negentropy\")\n",
    "plt.xlabel(\"Number of iterations\")\n",
    "plt.ylabel(\"Number of occurences\")\n",
    "plt.savefig(\"pa_neg.png\")\n",
    "plt.show()\n",
    "\n",
    "\n",
    "plt.bar(x_vec, y_vec_kur1)\n",
    "plt.title(\"Custom audio - Kurtosis\")\n",
    "plt.xlabel(\"Number of iterations\")\n",
    "plt.ylabel(\"Number of occurences\")\n",
    "plt.savefig(\"ca_kur.png\")\n",
    "plt.show()\n",
    "\n",
    "plt.bar(x_vec, y_vec_neg1)\n",
    "plt.title(\"Custom audio - Negentropy\")\n",
    "plt.xlabel(\"Number of iterations\")\n",
    "plt.ylabel(\"Number of occurences\")\n",
    "plt.savefig(\"ca_neg.png\")\n",
    "plt.show()"
   ]
  },
  {
   "cell_type": "markdown",
   "metadata": {},
   "source": [
    "![title](pa_kur.png)\n",
    "![title](pa_neg.png)\n",
    "![title](ca_kur.png)\n",
    "![title](ca_neg.png)\n",
    "\n",
    "pre-saved pdf files showing bar diagrams of kurtosis and negentropy can be used to determine which of the two are \"fastest\""
   ]
  },
  {
   "cell_type": "markdown",
   "metadata": {},
   "source": [
    "<h2>References</h2>\n",
    "    <a id=\"pb\" href=\"#pb\"><sup>1</sup></a> B. Owren, TMA4320 – våren 2019, Prosjekt 1: Blind source separation, 2019<br/>\n",
    "    <a id=\"article\" href=\"#article\"><sup>2</sup></a> A. Hyvärinen and E. Oja, Independent component analysis: algorithms and applications, Neural networks 13 (2000) 411–413."
   ]
  },
  {
   "cell_type": "code",
   "execution_count": null,
   "metadata": {},
   "outputs": [],
   "source": []
  }
 ],
 "metadata": {
  "kernelspec": {
   "display_name": "Python 3",
   "language": "python",
   "name": "python3"
  },
  "language_info": {
   "codemirror_mode": {
    "name": "ipython",
    "version": 3
   },
   "file_extension": ".py",
   "mimetype": "text/x-python",
   "name": "python",
   "nbconvert_exporter": "python",
   "pygments_lexer": "ipython3",
   "version": "3.7.1"
  }
 },
 "nbformat": 4,
 "nbformat_minor": 2
}
